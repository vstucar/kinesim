{
 "cells": [
  {
   "cell_type": "code",
   "execution_count": 1,
   "metadata": {},
   "outputs": [],
   "source": [
    "import numpy as np\n",
    "import matplotlib.pyplot as plt\n",
    "from math import sin, cos, radians\n",
    "from sympy import *\n",
    "init_printing(use_latex='mathjax')"
   ]
  },
  {
   "cell_type": "markdown",
   "metadata": {},
   "source": [
    "# Дороги в симуляторе\n",
    "\n",
    "Дороги представлены в виде ломанных. Ломанные обеспечивают достаточную точность, нет необходимости усложнять и применять различные кривые Безье и прочее.\n",
    "\n",
    "Дорогу надо не просто отрендерить, но и передать в каком-то виде в систему управления автомобилем. В качестве представления неподвижных препядствий выбран OccupancyGrid, потому что это просто и хорошо подходит для статических препятствий. Непонятно, как еще можно представить произвольное окружение. Поэтому для представления дороги в виде OccupancyGrid ее надо растрировать.\n",
    "\n",
    "Для растрирования дороги применяется модифицированный алгоритм Брезенхэма для рисования линий с заданной толщины. Главная проблема - это соединение двух сегментов дороги под углом.\n",
    "\n",
    "Угловое соединение полосы многополосной дороги с шириной полосы $width$, сдвинутой от центральной полосы на $offset$.\n",
    "![](simulator_corner_multiline.png)"
   ]
  },
  {
   "cell_type": "markdown",
   "metadata": {},
   "source": [
    "Дорога определяется центральной ломаной, шириной и количеством полос. На рисунке приведены два сегмента дороги, центральная линия которых определана отрезками $B_1B_2$ и $B_2B_3$ имеющих одну полосу шириной $width$, отстаящую от центральной линии на расстояние $offset$. Полоса параллельна центральной линии ($A_1A_2 \\mathbin{\\|} B_1 B_2 \\mathbin{\\|} O_1O_2$ и $A_2A_3 \\mathbin{\\|}  B_2B_3 \\mathbin{\\|} O2_O3$ соответственно).\n",
    "\n",
    "Необходимо найти координаты точек $A_2$, $B_2$, чтобы правильно растрировать угловое соединение сегментов. Точку $A_2$ найдем как точку пересечения прямых $A_1A_2$ и $O_2A_2$, а точку $B_2$ найдем как точку пересеячения прымых $B_1B_2$ и $O_2A_2$. Для этого составим канонические уравнения этих прямых.\n",
    "\n",
    "$\\vec{v}_1$, $\\vec{v}_2$ - направляющие вектора двух сегментов дороги. $\\vec{n}_1$, $\\vec{n}_2$ - нормальные вектора к этим сегментам:\n",
    "$$\n",
    "\\vec{n}_1 = \\vec{v}_1 \\times \\vec{up} \\\\\n",
    "\\vec{n}_2 = \\vec{v}_2 \\times \\vec{up}\n",
    "$$\n",
    "$\n",
    "\\begin{align*}\n",
    "    \\text{где } & up - \\text{вектор, направленный вверх (0, 0, 1).}\n",
    "\\end{align*}\n",
    "$\n",
    "\n",
    "Координаты точек $B_1$ и $A_1$:\n",
    "$$\n",
    "\\vec{B}_1 = \\vec{O}_1 + \\frac{\\vec{n}_1}{\\left\\lVert \\vec{n}_1 \\right\\rVert}\\cdot offset \\\\\n",
    "\\vec{A}_1 = \\vec{B}_1 + \\frac{\\vec{n}_1}{\\left\\lVert \\vec{n}_1 \\right\\rVert}\\cdot width \\\\\n",
    "$$\n",
    "\n",
    "Каноническое уравнение прямой $A_1A_2$:\n",
    "$$\n",
    "\\frac{x - A_{1x}}{\\vec{v}_{1x}} = \\frac{y - A_{1y}}{\\vec{v}_{1y}}\n",
    "$$\n",
    "\n",
    "Каноническое уравнение прямой $B_1B_2$:\n",
    "$$\n",
    "\\frac{x - B_{1x}}{\\vec{v}_{1x}} = \\frac{y - B_{1y}}{\\vec{v}_{1y}}\n",
    "$$\n",
    "\n",
    "Каноническое уравнение прямой $O_2A_3$:\n",
    "$$\n",
    "\\frac{x - O_{2x}}{\\vec{n}_x} = \\frac{y - O_{2y}}{\\vec{n}_x}\n",
    "$$\n",
    "\n",
    "\n",
    "Составим систему уравнений и найдем из нее координату точку $A_2$ пересечения прямых $A_1A_2$ и $O_2A_2$:\n",
    "$$\n",
    "\\begin{cases}\n",
    "    \\frac{x - A_{1x}}{v_{1x}} = \\frac{y - A_{1y}}{v_{1y}} \\\\\n",
    "    \\frac{x - O_{2x}}{\\vec{n}_x} = \\frac{y - O_{2y}}{\\vec{n}_x}\n",
    "\\end{cases}\n",
    "$$\n",
    "\n",
    "Аналогично для точки $B_2$.\n",
    "\n",
    "Решим систему символьно:"
   ]
  },
  {
   "cell_type": "code",
   "execution_count": 2,
   "metadata": {},
   "outputs": [],
   "source": [
    "x, y = symbols('x y')\n",
    "nx, ny, vx, vy = symbols('nx ny vx vy')\n",
    "Ax, Ay, Ox, Oy = symbols('Ax Ay Ox Oy')\n",
    "\n",
    "e1 = (x - Ax)/vx - (y - Ay)/vy\n",
    "e2 = (x - Ox)/nx - (y - Oy)/ny\n",
    "res = solve([e1, e2], [x, y])\n"
   ]
  },
  {
   "cell_type": "code",
   "execution_count": 3,
   "metadata": {},
   "outputs": [
    {
     "data": {
      "text/latex": [
       "$$- \\frac{- Ay + y}{vy} + \\frac{- Ax + x}{vx}$$"
      ],
      "text/plain": [
       "  -Ay + y   -Ax + x\n",
       "- ─────── + ───────\n",
       "     vy        vx  "
      ]
     },
     "execution_count": 3,
     "metadata": {},
     "output_type": "execute_result"
    }
   ],
   "source": [
    "e1"
   ]
  },
  {
   "cell_type": "code",
   "execution_count": 4,
   "metadata": {},
   "outputs": [
    {
     "data": {
      "text/latex": [
       "$$- \\frac{- Oy + y}{ny} + \\frac{- Ox + x}{nx}$$"
      ],
      "text/plain": [
       "  -Oy + y   -Ox + x\n",
       "- ─────── + ───────\n",
       "     ny        nx  "
      ]
     },
     "execution_count": 4,
     "metadata": {},
     "output_type": "execute_result"
    }
   ],
   "source": [
    "e2"
   ]
  },
  {
   "cell_type": "code",
   "execution_count": 5,
   "metadata": {},
   "outputs": [
    {
     "data": {
      "text/latex": [
       "$$\\left \\{ x : \\frac{nx \\left(Ax vy - Ay vx\\right) - vx \\left(Ox ny - Oy nx\\right)}{nx vy - ny vx}, \\quad y : \\frac{ny \\left(Ax vy - Ay vx\\right) - vy \\left(Ox ny - Oy nx\\right)}{nx vy - ny vx}\\right \\}$$"
      ],
      "text/plain": [
       "⎧   nx⋅(Ax⋅vy - Ay⋅vx) - vx⋅(Ox⋅ny - Oy⋅nx)     ny⋅(Ax⋅vy - Ay⋅vx) - vy⋅(Ox⋅ny\n",
       "⎨x: ───────────────────────────────────────, y: ──────────────────────────────\n",
       "⎩                nx⋅vy - ny⋅vx                               nx⋅vy - ny⋅vx    \n",
       "\n",
       " - Oy⋅nx)⎫\n",
       "─────────⎬\n",
       "         ⎭"
      ]
     },
     "execution_count": 5,
     "metadata": {},
     "output_type": "execute_result"
    }
   ],
   "source": [
    "res"
   ]
  },
  {
   "cell_type": "code",
   "execution_count": 6,
   "metadata": {},
   "outputs": [
    {
     "name": "stdout",
     "output_type": "stream",
     "text": [
      "(ny*(Ax*vy - Ay*vx) - vy*(Ox*ny - Oy*nx))/(nx*vy - ny*vx)\n",
      "(nx*(Ax*vy - Ay*vx) - vx*(Ox*ny - Oy*nx))/(nx*vy - ny*vx)\n"
     ]
    }
   ],
   "source": [
    "# Для копипаста в питон:\n",
    "for r in res:\n",
    "    print(res[r])"
   ]
  },
  {
   "cell_type": "markdown",
   "metadata": {},
   "source": [
    "### Расчет стыков сегментов"
   ]
  },
  {
   "cell_type": "code",
   "execution_count": 79,
   "metadata": {},
   "outputs": [
    {
     "data": {
      "image/png": "[encoded data removed]",
      "text/plain": [
       "<Figure size 432x288 with 1 Axes>"
      ]
     },
     "metadata": {
      "needs_background": "light"
     },
     "output_type": "display_data"
    }
   ],
   "source": [
    "def draw_vec(P, vec, length):\n",
    "    P1 = P + vec/np.linalg.norm(vec) * length\n",
    "    coords = np.vstack([P, P1])\n",
    "    plt.plot(coords[:,0], coords[:,1])\n",
    "\n",
    "def draw_point(P):\n",
    "    plt.plot([P[0]], [P[1]], 'o')\n",
    "    \n",
    "def draw_line(A, B):\n",
    "    coords = np.vstack([A, B])\n",
    "    plt.plot(coords[:,0], coords[:,1])\n",
    "    \n",
    "def draw_line_segment(A1, B1, A2, B2):\n",
    "    draw_line(A1, A2)\n",
    "    draw_line(B1, B2)\n",
    "    draw_line(A2, B2)\n",
    "    \n",
    "def draw_segment(cur_points, next_points):\n",
    "    for i in range(len(cur_points)-1):\n",
    "        draw_line_segment(cur_points[i], cur_points[i+1], next_points[i], next_points[i+1])\n",
    "    \n",
    "def line_intersect(P1, v1, P2, v2):\n",
    "    x = (v2[0]*(P1[0]*v1[1] - P1[1]*v1[0]) - v1[0]*(P2[0]*v2[1] - P2[1]*v2[0]))/(v2[0]*v1[1] - v2[1]*v1[0])\n",
    "    y = (v2[1]*(P1[0]*v1[1] - P1[1]*v1[0]) - v1[1]*(P2[0]*v2[1] - P2[1]*v2[0]))/(v2[0]*v1[1] - v2[1]*v1[0])\n",
    "    return np.array([x,y])\n",
    "\n",
    "def normalize(vec):\n",
    "    return vec/np.linalg.norm(vec)           \n",
    "\n",
    "points = np.array([\n",
    "    [0,0],\n",
    "    [10, 0],\n",
    "    [10, 10],\n",
    "    [15,15],\n",
    "    [30, 15],\n",
    "    [30, 0]\n",
    "])\n",
    "\n",
    "up = np.array([0,0,1])\n",
    "lines_width = 1\n",
    "lines_cnt = 6\n",
    "\n",
    "plt.plot(points[:,0], points[:,1])\n",
    "\n",
    "# Поддерживаем только дороги с четным количеством полос, половина в одну сторону, половина в другую\n",
    "\n",
    "# Расчитываем набор оффсетов для всех точек полос относительно центральной линии\n",
    "# Полосы начинаем считать с самой левой.\n",
    "offsets = (np.arange(-lines_cnt/2, lines_cnt/2 + 1) * lines_width).reshape((lines_cnt+1, 1))\n",
    "\n",
    "# Расчитываем вектор нормали к начальному сегменту и координаты начальных точек\n",
    "# (на чертеже - A1, B1 итп)\n",
    "v1 = normalize(points[1] - points[0])\n",
    "n1 = np.cross(up, v1)[:2]\n",
    "cur_points = points[0] + n1*offsets\n",
    "\n",
    "for seg_i in range(len(points)-2):\n",
    "    \n",
    "    # Расчет точек на изгибе\n",
    "    v2 = normalize(points[seg_i+2] - points[seg_i+1])\n",
    "    n2 = np.cross(up, v2)[:2]\n",
    "    n = (n1 + n2)/2\n",
    "    next_points = np.array([line_intersect(p, v1, points[seg_i+1], n) for p in cur_points])\n",
    "\n",
    "    draw_segment(cur_points, next_points)\n",
    "    \n",
    "    n1 = n2\n",
    "    v1 = v2\n",
    "    cur_points = next_points\n",
    "\n",
    "\n",
    "next_points = points[-1] + n1*offsets\n",
    "draw_segment(cur_points, next_points)\n",
    "\n",
    "\n",
    "plt.show()"
   ]
  },
  {
   "cell_type": "code",
   "execution_count": null,
   "metadata": {},
   "outputs": [],
   "source": []
  }
 ],
 "metadata": {
  "kernelspec": {
   "display_name": "Python 3",
   "language": "python",
   "name": "python3"
  },
  "language_info": {
   "codemirror_mode": {
    "name": "ipython",
    "version": 3
   },
   "file_extension": ".py",
   "mimetype": "text/x-python",
   "name": "python",
   "nbconvert_exporter": "python",
   "pygments_lexer": "ipython3",
   "version": "3.5.2"
  }
 },
 "nbformat": 4,
 "nbformat_minor": 2
}
